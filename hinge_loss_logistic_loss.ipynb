{
 "cells": [
  {
   "cell_type": "markdown",
   "metadata": {},
   "source": [
    "### Problem 4 (Hinge Loss vs Logistic Loss)"
   ]
  },
  {
   "cell_type": "code",
   "execution_count": 319,
   "metadata": {},
   "outputs": [],
   "source": [
    "import numpy as np\n",
    "import pandas as pd"
   ]
  },
  {
   "cell_type": "markdown",
   "metadata": {},
   "source": [
    "First, we are going to clean up the csv file by pushing the 1st data point (which is incorrectly encoded as columns) into the dataframe and then renaming columns, with the target feature called 'Feature 0'."
   ]
  },
  {
   "cell_type": "code",
   "execution_count": 320,
   "metadata": {},
   "outputs": [],
   "source": [
    "df = pd.read_csv('breast-cancer.csv')\n",
    "df.loc[-1] = [float(i) for i in df.columns] \n",
    "df.index = df.index + 1\n",
    "df = df.sort_index()\n",
    "df.columns = ['Feature ' + str(i) for i in range(10)]"
   ]
  },
  {
   "cell_type": "markdown",
   "metadata": {},
   "source": [
    "Use this helper function to print out the coefficients of the intercept and weight vector."
   ]
  },
  {
   "cell_type": "code",
   "execution_count": 321,
   "metadata": {},
   "outputs": [],
   "source": [
    "def print_coefs(results):\n",
    "    print('Intercept coefficient:\\t', results.intercept_)\n",
    "    for i in range(len(df.columns[:-1])):\n",
    "        print('Coefficient of', df.columns[i], ':\\t', results.coef_[0][i])"
   ]
  },
  {
   "cell_type": "code",
   "execution_count": 322,
   "metadata": {},
   "outputs": [
    {
     "data": {
      "text/html": [
       "<div>\n",
       "<style scoped>\n",
       "    .dataframe tbody tr th:only-of-type {\n",
       "        vertical-align: middle;\n",
       "    }\n",
       "\n",
       "    .dataframe tbody tr th {\n",
       "        vertical-align: top;\n",
       "    }\n",
       "\n",
       "    .dataframe thead th {\n",
       "        text-align: right;\n",
       "    }\n",
       "</style>\n",
       "<table border=\"1\" class=\"dataframe\">\n",
       "  <thead>\n",
       "    <tr style=\"text-align: right;\">\n",
       "      <th></th>\n",
       "      <th>Feature 0</th>\n",
       "      <th>Feature 1</th>\n",
       "      <th>Feature 2</th>\n",
       "      <th>Feature 3</th>\n",
       "      <th>Feature 4</th>\n",
       "      <th>Feature 5</th>\n",
       "      <th>Feature 6</th>\n",
       "      <th>Feature 7</th>\n",
       "      <th>Feature 8</th>\n",
       "      <th>Feature 9</th>\n",
       "    </tr>\n",
       "  </thead>\n",
       "  <tbody>\n",
       "    <tr>\n",
       "      <th>0</th>\n",
       "      <td>-1.0</td>\n",
       "      <td>5.0</td>\n",
       "      <td>1.0</td>\n",
       "      <td>1.1</td>\n",
       "      <td>1.2</td>\n",
       "      <td>2.0</td>\n",
       "      <td>1.3</td>\n",
       "      <td>3.0</td>\n",
       "      <td>1.4</td>\n",
       "      <td>1.5</td>\n",
       "    </tr>\n",
       "    <tr>\n",
       "      <th>1</th>\n",
       "      <td>-1.0</td>\n",
       "      <td>5.0</td>\n",
       "      <td>4.0</td>\n",
       "      <td>4.0</td>\n",
       "      <td>5.0</td>\n",
       "      <td>7.0</td>\n",
       "      <td>10.0</td>\n",
       "      <td>3.0</td>\n",
       "      <td>2.0</td>\n",
       "      <td>1.0</td>\n",
       "    </tr>\n",
       "    <tr>\n",
       "      <th>2</th>\n",
       "      <td>-1.0</td>\n",
       "      <td>3.0</td>\n",
       "      <td>1.0</td>\n",
       "      <td>1.0</td>\n",
       "      <td>1.0</td>\n",
       "      <td>2.0</td>\n",
       "      <td>2.0</td>\n",
       "      <td>3.0</td>\n",
       "      <td>1.0</td>\n",
       "      <td>1.0</td>\n",
       "    </tr>\n",
       "    <tr>\n",
       "      <th>3</th>\n",
       "      <td>-1.0</td>\n",
       "      <td>6.0</td>\n",
       "      <td>8.0</td>\n",
       "      <td>8.0</td>\n",
       "      <td>1.0</td>\n",
       "      <td>3.0</td>\n",
       "      <td>4.0</td>\n",
       "      <td>3.0</td>\n",
       "      <td>7.0</td>\n",
       "      <td>1.0</td>\n",
       "    </tr>\n",
       "    <tr>\n",
       "      <th>4</th>\n",
       "      <td>-1.0</td>\n",
       "      <td>4.0</td>\n",
       "      <td>1.0</td>\n",
       "      <td>1.0</td>\n",
       "      <td>3.0</td>\n",
       "      <td>2.0</td>\n",
       "      <td>1.0</td>\n",
       "      <td>3.0</td>\n",
       "      <td>1.0</td>\n",
       "      <td>1.0</td>\n",
       "    </tr>\n",
       "    <tr>\n",
       "      <th>...</th>\n",
       "      <td>...</td>\n",
       "      <td>...</td>\n",
       "      <td>...</td>\n",
       "      <td>...</td>\n",
       "      <td>...</td>\n",
       "      <td>...</td>\n",
       "      <td>...</td>\n",
       "      <td>...</td>\n",
       "      <td>...</td>\n",
       "      <td>...</td>\n",
       "    </tr>\n",
       "    <tr>\n",
       "      <th>678</th>\n",
       "      <td>-1.0</td>\n",
       "      <td>3.0</td>\n",
       "      <td>1.0</td>\n",
       "      <td>1.0</td>\n",
       "      <td>1.0</td>\n",
       "      <td>3.0</td>\n",
       "      <td>2.0</td>\n",
       "      <td>1.0</td>\n",
       "      <td>1.0</td>\n",
       "      <td>1.0</td>\n",
       "    </tr>\n",
       "    <tr>\n",
       "      <th>679</th>\n",
       "      <td>-1.0</td>\n",
       "      <td>2.0</td>\n",
       "      <td>1.0</td>\n",
       "      <td>1.0</td>\n",
       "      <td>1.0</td>\n",
       "      <td>2.0</td>\n",
       "      <td>1.0</td>\n",
       "      <td>1.0</td>\n",
       "      <td>1.0</td>\n",
       "      <td>1.0</td>\n",
       "    </tr>\n",
       "    <tr>\n",
       "      <th>680</th>\n",
       "      <td>1.0</td>\n",
       "      <td>5.0</td>\n",
       "      <td>10.0</td>\n",
       "      <td>10.0</td>\n",
       "      <td>3.0</td>\n",
       "      <td>7.0</td>\n",
       "      <td>3.0</td>\n",
       "      <td>8.0</td>\n",
       "      <td>10.0</td>\n",
       "      <td>2.0</td>\n",
       "    </tr>\n",
       "    <tr>\n",
       "      <th>681</th>\n",
       "      <td>1.0</td>\n",
       "      <td>4.0</td>\n",
       "      <td>8.0</td>\n",
       "      <td>6.0</td>\n",
       "      <td>4.0</td>\n",
       "      <td>3.0</td>\n",
       "      <td>4.0</td>\n",
       "      <td>10.0</td>\n",
       "      <td>6.0</td>\n",
       "      <td>1.0</td>\n",
       "    </tr>\n",
       "    <tr>\n",
       "      <th>682</th>\n",
       "      <td>1.0</td>\n",
       "      <td>4.0</td>\n",
       "      <td>8.0</td>\n",
       "      <td>8.0</td>\n",
       "      <td>5.0</td>\n",
       "      <td>4.0</td>\n",
       "      <td>5.0</td>\n",
       "      <td>10.0</td>\n",
       "      <td>4.0</td>\n",
       "      <td>1.0</td>\n",
       "    </tr>\n",
       "  </tbody>\n",
       "</table>\n",
       "<p>683 rows × 10 columns</p>\n",
       "</div>"
      ],
      "text/plain": [
       "     Feature 0  Feature 1  Feature 2  Feature 3  Feature 4  Feature 5  \\\n",
       "0         -1.0        5.0        1.0        1.1        1.2        2.0   \n",
       "1         -1.0        5.0        4.0        4.0        5.0        7.0   \n",
       "2         -1.0        3.0        1.0        1.0        1.0        2.0   \n",
       "3         -1.0        6.0        8.0        8.0        1.0        3.0   \n",
       "4         -1.0        4.0        1.0        1.0        3.0        2.0   \n",
       "..         ...        ...        ...        ...        ...        ...   \n",
       "678       -1.0        3.0        1.0        1.0        1.0        3.0   \n",
       "679       -1.0        2.0        1.0        1.0        1.0        2.0   \n",
       "680        1.0        5.0       10.0       10.0        3.0        7.0   \n",
       "681        1.0        4.0        8.0        6.0        4.0        3.0   \n",
       "682        1.0        4.0        8.0        8.0        5.0        4.0   \n",
       "\n",
       "     Feature 6  Feature 7  Feature 8  Feature 9  \n",
       "0          1.3        3.0        1.4        1.5  \n",
       "1         10.0        3.0        2.0        1.0  \n",
       "2          2.0        3.0        1.0        1.0  \n",
       "3          4.0        3.0        7.0        1.0  \n",
       "4          1.0        3.0        1.0        1.0  \n",
       "..         ...        ...        ...        ...  \n",
       "678        2.0        1.0        1.0        1.0  \n",
       "679        1.0        1.0        1.0        1.0  \n",
       "680        3.0        8.0       10.0        2.0  \n",
       "681        4.0       10.0        6.0        1.0  \n",
       "682        5.0       10.0        4.0        1.0  \n",
       "\n",
       "[683 rows x 10 columns]"
      ]
     },
     "execution_count": 322,
     "metadata": {},
     "output_type": "execute_result"
    }
   ],
   "source": [
    "df"
   ]
  },
  {
   "cell_type": "markdown",
   "metadata": {},
   "source": [
    "### (a)\n",
    "\n",
    "Shuffle all of the data points using df.sample() with a random state of 42, then split the data set into a 50/25/25 training/validation/test split. So, the first half of the shuffled data set will be the training set, the 3rd quarter will be the validation set, and the 4th quarter will be the test set."
   ]
  },
  {
   "cell_type": "code",
   "execution_count": 323,
   "metadata": {},
   "outputs": [],
   "source": [
    "df = df.sample(df.shape[0], random_state = 42)"
   ]
  },
  {
   "cell_type": "code",
   "execution_count": 324,
   "metadata": {},
   "outputs": [],
   "source": [
    "tr = df.iloc[:int(df.shape[0]*0.5), :]\n",
    "va = df.iloc[int(df.shape[0]*0.5):int(df.shape[0]*0.75), :]\n",
    "te = df.iloc[int(df.shape[0]*0.75):, :]"
   ]
  },
  {
   "cell_type": "markdown",
   "metadata": {},
   "source": [
    "### (b)\n",
    "\n",
    "Using validation to determine an appropriate regularization parameter $\\lambda$, fit a linear support vector classifier (SVC, `sklearn.svm.SVC`) and logistic regressor (LR, `sklearn.linear_model.LogisticRegression`) for 50 iterations to minimize the regularized empirical risk $$\\min \\frac{1}{n} \\sum_{i=1}^{n} \\ell(x_i,y;w) + \\lambda \\cdot ||w||_2^2$$\n",
    "\n",
    "for a hinge loss and logistic loss, respectively. \n",
    "\n",
    "In particular, for each $\\lambda \\in \\Lambda =  \\{.01,.02,.03,...,1\\}$, fit a SVC and LR with appropriate inputs to (possibly a subset of) arguments  { `penalty` , `loss` , `C` , `max_iter`, `random_state`, `fit_intercept`}, and then compute the misclassification error rate on the validation set. Use `max_iter=100000` and `random_state=42` for all trained models, and be sure to add an offset (`fit_intercept=True`) to your model. \n",
    "\n",
    "(Hint: Looking at the documentation for these models in sklearn may help.)\n",
    "\n",
    "__Print out the best regularization parameter $\\lambda^* \\in \\Lambda$ (using the `print_coefs` helper function) and the intercept & weight coefficients for SVC and LR models corresponding to $\\lambda^*$__ \n",
    "\n",
    "We will call these weight vectors $w^*_\\text{hinge}$ and $w^*_\\text{logistic}$, respectively."
   ]
  },
  {
   "cell_type": "code",
   "execution_count": 325,
   "metadata": {
    "scrolled": true
   },
   "outputs": [],
   "source": [
    "from sklearn.svm import SVC"
   ]
  },
  {
   "cell_type": "code",
   "execution_count": 326,
   "metadata": {},
   "outputs": [],
   "source": [
    "def err(y_hat, y):\n",
    "    return np.mean(y_hat != y)"
   ]
  },
  {
   "cell_type": "code",
   "execution_count": 327,
   "metadata": {},
   "outputs": [
    {
     "data": {
      "text/plain": [
       "(1000,)"
      ]
     },
     "execution_count": 327,
     "metadata": {},
     "output_type": "execute_result"
    }
   ],
   "source": [
    "lmbdas = np.arange(0.001, 1.0005, 0.001)\n",
    "lmbdas.shape"
   ]
  },
  {
   "cell_type": "code",
   "execution_count": 328,
   "metadata": {},
   "outputs": [],
   "source": [
    "errors_svm = np.zeros(1000,)\n",
    "for i in range(lmbdas.shape[0]):\n",
    "    # C is the inverse of lmbda\n",
    "    # A larger max_iter is \n",
    "    clf = SVC(C = 1/lmbdas[i], max_iter = 10000000, kernel = 'linear', random_state = 42)\n",
    "    clf.fit(tr.drop(['Feature 0'], axis = 1), tr['Feature 0'])\n",
    "    preds = clf.predict(va.drop(['Feature 0'], axis = 1))\n",
    "    error = err(preds, va['Feature 0'])\n",
    "    errors_svm[i] = error"
   ]
  },
  {
   "cell_type": "code",
   "execution_count": 329,
   "metadata": {},
   "outputs": [],
   "source": [
    "index = np.argmin(errors_svm)"
   ]
  },
  {
   "cell_type": "code",
   "execution_count": 330,
   "metadata": {},
   "outputs": [],
   "source": [
    "best_lmbda_svm = lmbdas[index]"
   ]
  },
  {
   "cell_type": "code",
   "execution_count": 331,
   "metadata": {},
   "outputs": [
    {
     "name": "stdout",
     "output_type": "stream",
     "text": [
      "Best regularization parameter via validation:\t 0.001\n"
     ]
    }
   ],
   "source": [
    "print('Best regularization parameter via validation:\\t', best_lmbda_svm)"
   ]
  },
  {
   "cell_type": "code",
   "execution_count": 332,
   "metadata": {
    "scrolled": true
   },
   "outputs": [],
   "source": [
    "from sklearn.linear_model import LogisticRegression"
   ]
  },
  {
   "cell_type": "code",
   "execution_count": 333,
   "metadata": {},
   "outputs": [],
   "source": [
    "errors_lr = np.zeros(1000,)\n",
    "for i in range(lmbdas.shape[0]):\n",
    "    # C is the inverse of lmbda\n",
    "    clf = LogisticRegression(C = 1/lmbdas[i], fit_intercept = True, max_iter = 100000, random_state = 42)\n",
    "    clf.fit(tr.drop(['Feature 0'], axis = 1), tr['Feature 0']) \n",
    "    preds = clf.predict(va.drop(['Feature 0'], axis = 1))\n",
    "    error = err(preds, va['Feature 0'])\n",
    "    errors_lr[i] = error"
   ]
  },
  {
   "cell_type": "code",
   "execution_count": 334,
   "metadata": {},
   "outputs": [],
   "source": [
    "index = np.argmin(errors_lr)"
   ]
  },
  {
   "cell_type": "code",
   "execution_count": 335,
   "metadata": {},
   "outputs": [],
   "source": [
    "best_lmbda_lr = lmbdas[index]"
   ]
  },
  {
   "cell_type": "code",
   "execution_count": 336,
   "metadata": {},
   "outputs": [
    {
     "name": "stdout",
     "output_type": "stream",
     "text": [
      "Best regularization parameter via validation:\t 0.13\n"
     ]
    }
   ],
   "source": [
    "print('Best regularization parameter via validation:\\t', best_lmbda_lr)"
   ]
  },
  {
   "cell_type": "code",
   "execution_count": 337,
   "metadata": {},
   "outputs": [
    {
     "data": {
      "text/plain": [
       "SVC(C=1000.0, kernel='linear', max_iter=10000000, random_state=42)"
      ]
     },
     "execution_count": 337,
     "metadata": {},
     "output_type": "execute_result"
    }
   ],
   "source": [
    "svm = SVC(C = 1/best_lmbda_svm, max_iter = 10000000, kernel = 'linear', random_state = 42)\n",
    "svm.fit(tr.drop(['Feature 0'], axis = 1), tr['Feature 0']) # C is the inverse of lmbda"
   ]
  },
  {
   "cell_type": "code",
   "execution_count": 338,
   "metadata": {},
   "outputs": [
    {
     "name": "stdout",
     "output_type": "stream",
     "text": [
      "Intercept and Weights learned for Linear SVM model:\n",
      "\n",
      "Intercept coefficient:\t [-6.62047887]\n",
      "Coefficient of Feature 0 :\t 0.4326447790905661\n",
      "Coefficient of Feature 1 :\t -0.11535016980666057\n",
      "Coefficient of Feature 2 :\t 0.5344670470541502\n",
      "Coefficient of Feature 3 :\t 0.2859889518406433\n",
      "Coefficient of Feature 4 :\t 0.14507377988253012\n",
      "Coefficient of Feature 5 :\t 0.30099635389911583\n",
      "Coefficient of Feature 6 :\t -0.09394456878168\n",
      "Coefficient of Feature 7 :\t 0.20246044847511158\n",
      "Coefficient of Feature 8 :\t 0.43425201176899364\n"
     ]
    }
   ],
   "source": [
    "print('Intercept and Weights learned for Linear SVM model:\\n')\n",
    "print_coefs(svm)"
   ]
  },
  {
   "cell_type": "code",
   "execution_count": 339,
   "metadata": {},
   "outputs": [
    {
     "data": {
      "text/plain": [
       "LogisticRegression(C=7.692307692307692, max_iter=1000000, random_state=42)"
      ]
     },
     "execution_count": 339,
     "metadata": {},
     "output_type": "execute_result"
    }
   ],
   "source": [
    "lr = LogisticRegression(C = 1/best_lmbda_lr, fit_intercept = True, max_iter = 1000000, random_state = 42)\n",
    "lr.fit(tr.drop(['Feature 0'], axis = 1), tr['Feature 0']) # C is the inverse of lmbda"
   ]
  },
  {
   "cell_type": "code",
   "execution_count": 340,
   "metadata": {},
   "outputs": [
    {
     "name": "stdout",
     "output_type": "stream",
     "text": [
      "Intercept and Weights learned for Logistic Regression model:\n",
      "\n",
      "Intercept coefficient:\t [-13.24494534]\n",
      "Coefficient of Feature 0 :\t 0.841718885448195\n",
      "Coefficient of Feature 1 :\t 0.21131888783035613\n",
      "Coefficient of Feature 2 :\t 1.1259693843248286\n",
      "Coefficient of Feature 3 :\t 0.3819520202726725\n",
      "Coefficient of Feature 4 :\t 0.03295039194701652\n",
      "Coefficient of Feature 5 :\t 0.4154922872396178\n",
      "Coefficient of Feature 6 :\t 0.1810764173361439\n",
      "Coefficient of Feature 7 :\t 0.2636751379463769\n",
      "Coefficient of Feature 8 :\t 0.2894598197882617\n"
     ]
    }
   ],
   "source": [
    "print('Intercept and Weights learned for Logistic Regression model:\\n') \n",
    "print_coefs(lr)"
   ]
  },
  {
   "cell_type": "markdown",
   "metadata": {},
   "source": [
    "### c) \n",
    "\n",
    "Report the misclassification rates of $w^*_\\text{hinge}$ and $w^*_\\text{logistic}$ on\n",
    "the test set. Which model performs better?"
   ]
  },
  {
   "cell_type": "code",
   "execution_count": 341,
   "metadata": {},
   "outputs": [
    {
     "name": "stdout",
     "output_type": "stream",
     "text": [
      "The error of the SVM, which is built upon the hinge loss, is 0.029.\n",
      "The error of the Logistic Regression, which is built upon the logistic loss, is 0.035.\n"
     ]
    }
   ],
   "source": [
    "preds_svm = svm.predict(te.drop(['Feature 0'], axis = 1))\n",
    "preds_lr = lr.predict(te.drop(['Feature 0'], axis = 1))\n",
    "\n",
    "print(\"The error of the SVM, which is built upon the hinge loss, is \" + \n",
    "      str(round(err(preds_svm, te['Feature 0']), 3)) + \".\")\n",
    "print(\"The error of the Logistic Regression, which is built upon the logistic loss, is \" + \n",
    "      str(round(err(preds_lr, te['Feature 0']), 3)) + \".\")"
   ]
  },
  {
   "cell_type": "markdown",
   "metadata": {},
   "source": [
    "### (d) See pdf.\n",
    "\n",
    "### (e)\n",
    "\n",
    "Compute the log-likelihood of these two models using the test data set. Creating some helper functions that compute hinge loss and logistic loss for a given data point and weight vector $(x,y,w)$ may help.\n",
    "\n",
    "Relate your findings to your misclassification error results in part (b)."
   ]
  },
  {
   "cell_type": "code",
   "execution_count": null,
   "metadata": {},
   "outputs": [],
   "source": []
  },
  {
   "cell_type": "markdown",
   "metadata": {},
   "source": [
    "__Response:__"
   ]
  }
 ],
 "metadata": {
  "@webio": {
   "lastCommId": null,
   "lastKernelId": null
  },
  "kernelspec": {
   "display_name": "Python 3 (ipykernel)",
   "language": "python",
   "name": "python3"
  },
  "language_info": {
   "codemirror_mode": {
    "name": "ipython",
    "version": 3
   },
   "file_extension": ".py",
   "mimetype": "text/x-python",
   "name": "python",
   "nbconvert_exporter": "python",
   "pygments_lexer": "ipython3",
   "version": "3.8.11"
  }
 },
 "nbformat": 4,
 "nbformat_minor": 2
}

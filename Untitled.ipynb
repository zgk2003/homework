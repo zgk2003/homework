{
 "cells": [
  {
   "cell_type": "code",
   "execution_count": 1,
   "id": "19ff508d",
   "metadata": {},
   "outputs": [],
   "source": [
    "import numpy as np"
   ]
  },
  {
   "cell_type": "code",
   "execution_count": 13,
   "id": "3e52a01c",
   "metadata": {},
   "outputs": [],
   "source": [
    "arr = np.array([0.19,0.045,0.06,0.219,-0.015,0.18,0.231,0.188,0.043,0.343,-0.029,0.18,0.02,0.09,-0.4])"
   ]
  },
  {
   "cell_type": "code",
   "execution_count": 14,
   "id": "04fd89e8",
   "metadata": {},
   "outputs": [],
   "source": [
    "avg = np.average(arr)"
   ]
  },
  {
   "cell_type": "code",
   "execution_count": 15,
   "id": "bb206cec",
   "metadata": {},
   "outputs": [],
   "source": [
    "sd = np.sqrt(np.sum(np.square(arr-avg)) / 15)"
   ]
  },
  {
   "cell_type": "code",
   "execution_count": 16,
   "id": "28e85379",
   "metadata": {},
   "outputs": [
    {
     "data": {
      "text/plain": [
       "2.165064444471372"
      ]
     },
     "execution_count": 16,
     "metadata": {},
     "output_type": "execute_result"
    }
   ],
   "source": [
    "avg/(sd / 4)"
   ]
  },
  {
   "cell_type": "code",
   "execution_count": 3,
   "id": "f2917a39",
   "metadata": {},
   "outputs": [],
   "source": [
    "wife = np.array([12, 14, 12, 14])\n",
    "husband = np.array([10, 12, 8, 10])\n",
    "diff = wife-husband"
   ]
  },
  {
   "cell_type": "code",
   "execution_count": 4,
   "id": "b58ea030",
   "metadata": {},
   "outputs": [],
   "source": [
    "s = np.sqrt(np.sum(np.square(diff - np.average(diff)))/ 3)"
   ]
  },
  {
   "cell_type": "code",
   "execution_count": 5,
   "id": "c72ef714",
   "metadata": {},
   "outputs": [],
   "source": [
    "t = np.average(diff) * np.sqrt(3) / s"
   ]
  },
  {
   "cell_type": "code",
   "execution_count": 6,
   "id": "bfff33d3",
   "metadata": {},
   "outputs": [
    {
     "data": {
      "text/plain": [
       "4.5"
      ]
     },
     "execution_count": 6,
     "metadata": {},
     "output_type": "execute_result"
    }
   ],
   "source": [
    "t"
   ]
  },
  {
   "cell_type": "code",
   "execution_count": null,
   "id": "3c72c03e",
   "metadata": {},
   "outputs": [],
   "source": []
  }
 ],
 "metadata": {
  "kernelspec": {
   "display_name": "Python 3 (ipykernel)",
   "language": "python",
   "name": "python3"
  },
  "language_info": {
   "codemirror_mode": {
    "name": "ipython",
    "version": 3
   },
   "file_extension": ".py",
   "mimetype": "text/x-python",
   "name": "python",
   "nbconvert_exporter": "python",
   "pygments_lexer": "ipython3",
   "version": "3.8.11"
  }
 },
 "nbformat": 4,
 "nbformat_minor": 5
}

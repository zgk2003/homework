{
 "cells": [
  {
   "cell_type": "code",
   "execution_count": 1,
   "id": "19ff508d",
   "metadata": {},
   "outputs": [],
   "source": [
    "import numpy as np"
   ]
  },
  {
   "cell_type": "code",
   "execution_count": 13,
   "id": "3e52a01c",
   "metadata": {},
   "outputs": [],
   "source": [
    "arr = np.array([0.19,0.045,0.06,0.219,-0.015,0.18,0.231,0.188,0.043,0.343,-0.029,0.18,0.02,0.09,-0.4])"
   ]
  },
  {
   "cell_type": "code",
   "execution_count": 14,
   "id": "04fd89e8",
   "metadata": {},
   "outputs": [],
   "source": [
    "avg = np.average(arr)"
   ]
  },
  {
   "cell_type": "code",
   "execution_count": 15,
   "id": "bb206cec",
   "metadata": {},
   "outputs": [],
   "source": [
    "sd = np.sqrt(np.sum(np.square(arr-avg)) / 15)"
   ]
  },
  {
   "cell_type": "code",
   "execution_count": 16,
   "id": "28e85379",
   "metadata": {},
   "outputs": [
    {
     "data": {
      "text/plain": [
       "2.165064444471372"
      ]
     },
     "execution_count": 16,
     "metadata": {},
     "output_type": "execute_result"
    }
   ],
   "source": [
    "avg/(sd / 4)"
   ]
  },
  {
   "cell_type": "code",
   "execution_count": 3,
   "id": "f2917a39",
   "metadata": {},
   "outputs": [],
   "source": [
    "wife = np.array([12, 14, 12, 14])\n",
    "husband = np.array([10, 12, 8, 10])\n",
    "diff = wife-husband"
   ]
  },
  {
   "cell_type": "code",
   "execution_count": 4,
   "id": "b58ea030",
   "metadata": {},
   "outputs": [],
   "source": [
    "s = np.sqrt(np.sum(np.square(diff - np.average(diff)))/ 3)"
   ]
  },
  {
   "cell_type": "code",
   "execution_count": 5,
   "id": "c72ef714",
   "metadata": {},
   "outputs": [],
   "source": [
    "t = np.average(diff) * np.sqrt(3) / s"
   ]
  },
  {
   "cell_type": "code",
   "execution_count": 6,
   "id": "bfff33d3",
   "metadata": {},
   "outputs": [
    {
     "data": {
      "text/plain": [
       "4.5"
      ]
     },
     "execution_count": 6,
     "metadata": {},
     "output_type": "execute_result"
    }
   ],
   "source": [
    "t"
   ]
  },
  {
   "cell_type": "code",
   "execution_count": 6,
   "id": "3c72c03e",
   "metadata": {},
   "outputs": [],
   "source": [
    "arr1 = np.array([1.385, 1.230, 0.755, 0.775, 2.024, 1.792, 2.387, 0.532, 0.875, 0.541, 2.186, 0.809, 0.900, 0.600, 0.720, 1.040])\n",
    "arr2 = np.array([1.195, 1.185, 0.755, 0.715, 1.805, 1.807, 2.207, 0.301, 0.687, 0.498, 1.843, 0.838, 0.720, 0.580, 0.630, 1.440])\n"
   ]
  },
  {
   "cell_type": "code",
   "execution_count": 4,
   "id": "7e3e67eb",
   "metadata": {},
   "outputs": [],
   "source": [
    "s1 = np.std(arr1, ddof = 1)\n",
    "s2 = np.std(arr2, ddof = 1)"
   ]
  },
  {
   "cell_type": "code",
   "execution_count": 11,
   "id": "47d404ed",
   "metadata": {},
   "outputs": [
    {
     "name": "stdout",
     "output_type": "stream",
     "text": [
      "1.1594375000000001\n",
      "1.075375\n",
      "0.6133550324512984\n",
      "0.579625611925491\n"
     ]
    }
   ],
   "source": [
    "xbar1 = np.mean(arr1)\n",
    "xbar2 = np.mean(arr2)\n",
    "print(xbar1)\n",
    "print(xbar2)\n",
    "print(s1)\n",
    "print(s2)"
   ]
  },
  {
   "cell_type": "code",
   "execution_count": 12,
   "id": "12bdd0b5",
   "metadata": {},
   "outputs": [
    {
     "data": {
      "text/plain": [
       "0.5967286845096912"
      ]
     },
     "execution_count": 12,
     "metadata": {},
     "output_type": "execute_result"
    }
   ],
   "source": [
    "s = ((15 * s1**2 + 15 * s2**2)/(16 + 16 - 2))**0.5\n",
    "s"
   ]
  },
  {
   "cell_type": "code",
   "execution_count": 9,
   "id": "0e6a5c96",
   "metadata": {},
   "outputs": [
    {
     "data": {
      "text/plain": [
       "0.39844683412418663"
      ]
     },
     "execution_count": 9,
     "metadata": {},
     "output_type": "execute_result"
    }
   ],
   "source": [
    "t = (xbar1 - xbar2) / (s * ((1/16) + (1/16))**0.5)\n",
    "t"
   ]
  },
  {
   "cell_type": "code",
   "execution_count": 3,
   "id": "5ec7c208",
   "metadata": {},
   "outputs": [],
   "source": [
    "arr = np.array([3, 6, 8, 9, 5, 7, 10, 4, 5, 12, 8, 4, 6, 9, 1, 7])"
   ]
  },
  {
   "cell_type": "code",
   "execution_count": 4,
   "id": "e58744ef",
   "metadata": {},
   "outputs": [],
   "source": [
    "avg = np.mean(arr)"
   ]
  },
  {
   "cell_type": "code",
   "execution_count": 5,
   "id": "1be5b0ca",
   "metadata": {},
   "outputs": [
    {
     "data": {
      "text/plain": [
       "6.5"
      ]
     },
     "execution_count": 5,
     "metadata": {},
     "output_type": "execute_result"
    }
   ],
   "source": [
    "avg"
   ]
  },
  {
   "cell_type": "code",
   "execution_count": 6,
   "id": "2ff2093c",
   "metadata": {},
   "outputs": [],
   "source": [
    "s = np.std(arr, ddof = 1)"
   ]
  },
  {
   "cell_type": "code",
   "execution_count": 7,
   "id": "739594c6",
   "metadata": {},
   "outputs": [
    {
     "data": {
      "text/plain": [
       "2.8284271247461903"
      ]
     },
     "execution_count": 7,
     "metadata": {},
     "output_type": "execute_result"
    }
   ],
   "source": [
    "s"
   ]
  },
  {
   "cell_type": "code",
   "execution_count": 8,
   "id": "79054b6c",
   "metadata": {},
   "outputs": [
    {
     "data": {
      "text/plain": [
       "0.7067137809187279"
      ]
     },
     "execution_count": 8,
     "metadata": {},
     "output_type": "execute_result"
    }
   ],
   "source": [
    "t = (6.5 - 6) / (2.83 / 4)\n",
    "t"
   ]
  },
  {
   "cell_type": "code",
   "execution_count": null,
   "id": "3fd77f0d",
   "metadata": {},
   "outputs": [],
   "source": []
  }
 ],
 "metadata": {
  "kernelspec": {
   "display_name": "Python 3 (ipykernel)",
   "language": "python",
   "name": "python3"
  },
  "language_info": {
   "codemirror_mode": {
    "name": "ipython",
    "version": 3
   },
   "file_extension": ".py",
   "mimetype": "text/x-python",
   "name": "python",
   "nbconvert_exporter": "python",
   "pygments_lexer": "ipython3",
   "version": "3.8.11"
  }
 },
 "nbformat": 4,
 "nbformat_minor": 5
}

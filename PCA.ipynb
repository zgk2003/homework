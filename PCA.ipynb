{
 "cells": [
  {
   "cell_type": "markdown",
   "metadata": {},
   "source": [
    "## 1. SVD vs. AM\n",
    "\n",
    "In class, you learned about two ways of solving PCA. Let's compare them. The data you will use is from part h of the airbnb homework. "
   ]
  },
  {
   "cell_type": "code",
   "execution_count": 9,
   "metadata": {},
   "outputs": [],
   "source": [
    "import numpy as np\n",
    "import pandas as pd\n",
    "import matplotlib.pyplot as plt"
   ]
  },
  {
   "cell_type": "markdown",
   "metadata": {},
   "source": [
    "'airbnb_hw6.csv' contains the full dataset we will use throughout this assignment (Y_full). Because it is big, we will start by only looking at the first third of the data (Y)."
   ]
  },
  {
   "cell_type": "code",
   "execution_count": 10,
   "metadata": {},
   "outputs": [
    {
     "name": "stdout",
     "output_type": "stream",
     "text": [
      "(1942, 4905)\n",
      "(5828, 4905)\n"
     ]
    }
   ],
   "source": [
    "# data\n",
    "Y_full = pd.read_csv('airbnb_hw6.csv', header=None)\n",
    "n_full, d = Y_full.shape\n",
    "Y = Y_full.iloc[0:n_full//3]\n",
    "\n",
    "Y = Y.to_numpy()\n",
    "Y_full = Y_full.to_numpy()\n",
    "print(Y.shape)\n",
    "print(Y_full.shape)"
   ]
  },
  {
   "cell_type": "markdown",
   "metadata": {},
   "source": [
    "#### a) Top-k SVD and residual error.\n",
    "For the airbnb data and for $k = 1,2,...,10$, compute the top-k SVD \n",
    "$U_k \\Sigma_k V_k^T$\n",
    "and the residual error\n",
    "$||Y - U_k \\Sigma_k V_k^T||.$"
   ]
  },
  {
   "cell_type": "code",
   "execution_count": 11,
   "metadata": {},
   "outputs": [
    {
     "data": {
      "text/plain": [
       "((1942, 1942), (1942,), (1942, 4905))"
      ]
     },
     "execution_count": 11,
     "metadata": {},
     "output_type": "execute_result"
    }
   ],
   "source": [
    "u, s, vh = np.linalg.svd(Y, full_matrices = False)\n",
    "u.shape, s.shape, vh.shape"
   ]
  },
  {
   "cell_type": "code",
   "execution_count": 12,
   "metadata": {},
   "outputs": [],
   "source": [
    "n = 10\n",
    "errors = np.zeros(n)\n",
    "for i in range(1, n + 1):\n",
    "    y_hat = np.dot(u[:, :i] * s[:i], vh[:i, :])\n",
    "    errors[i - 1] = np.linalg.norm(Y - y_hat)"
   ]
  },
  {
   "cell_type": "code",
   "execution_count": 13,
   "metadata": {},
   "outputs": [
    {
     "name": "stdout",
     "output_type": "stream",
     "text": [
      "The residual error for k = 1 is 13328.119359502925.\n",
      "The residual error for k = 2 is 8966.290861516709.\n",
      "The residual error for k = 3 is 6173.28688467183.\n",
      "The residual error for k = 4 is 3594.481072732783.\n",
      "The residual error for k = 5 is 2885.6231781230344.\n",
      "The residual error for k = 6 is 2323.6981005414714.\n",
      "The residual error for k = 7 is 1673.1751793388185.\n",
      "The residual error for k = 8 is 1149.67773569802.\n",
      "The residual error for k = 9 is 683.3954132589105.\n",
      "The residual error for k = 10 is 411.8372483468526.\n"
     ]
    }
   ],
   "source": [
    "for i in range(n):\n",
    "    print(\"The residual error for k = \" + str(i+1) + \" is \" + str(errors[i]) + \".\")"
   ]
  },
  {
   "cell_type": "markdown",
   "metadata": {},
   "source": [
    "#### b) Plot the residual error as a function of $k$. \n",
    "What do you observe? Would you say the top $k$ SVD is a good approximation?  For what $k$?"
   ]
  },
  {
   "cell_type": "code",
   "execution_count": 14,
   "metadata": {},
   "outputs": [
    {
     "data": {
      "text/plain": [
       "[<matplotlib.lines.Line2D at 0x7fddc0fbf880>]"
      ]
     },
     "execution_count": 14,
     "metadata": {},
     "output_type": "execute_result"
    },
    {
     "data": {
      "image/png": "[encoded data removed]",
      "text/plain": [
       "<Figure size 432x288 with 1 Axes>"
      ]
     },
     "metadata": {
      "needs_background": "light"
     },
     "output_type": "display_data"
    }
   ],
   "source": [
    "x = range(1, n + 1)\n",
    "y = errors\n",
    "plt.plot(x, y)"
   ]
  },
  {
   "cell_type": "markdown",
   "metadata": {},
   "source": [
    "__Response__: The error decreases almost exponentially with k. Top-k SVD is indeed a good approximation. As we increase k, we eventually encounter diminishing benefits. For this problem though, a good k is probably 10, since the error curve is still pretty steep even at 10. If we increase the range of possible k to the set of integers from 1 to 20, though, we can find that the graph takes a \"knee\" at around 13 and that is probably is good value of k."
   ]
  },
  {
   "cell_type": "markdown",
   "metadata": {},
   "source": [
    "#### c) Alternating minimization\n",
    "\n",
    "Set $k=10$. Generate a random starting matrix $W \\in \\mathbb{R}^{k \\times d}$ with `np.random.randn`. Use least squares to solve \n",
    "$$ \\mbox{minimize}\\quad\\|Y - XW\\|_F^2 $$\n",
    "for $X$. Now fix that $X$ and use least squares to solve for $W$. Repeat this 10 times (ie, 10 solves each for $X$ and $W$). (Cache the Gram matrix for each least squares problem for a faster solve!)"
   ]
  },
  {
   "cell_type": "code",
   "execution_count": 15,
   "metadata": {},
   "outputs": [
    {
     "name": "stderr",
     "output_type": "stream",
     "text": [
      "/var/folders/v3/87m7w99s42n4xpqtn5t4138m0000gn/T/ipykernel_87509/3421148907.py:3: FutureWarning: `rcond` parameter will change to the default of machine precision times ``max(M, N)`` where M and N are the input matrix dimensions.\n",
      "To use the future default and silence this warning we advise to pass `rcond=None`, to keep using the old, explicitly pass `rcond=-1`.\n",
      "  res = np.linalg.lstsq(W.T, Y.T)\n",
      "/var/folders/v3/87m7w99s42n4xpqtn5t4138m0000gn/T/ipykernel_87509/3421148907.py:5: FutureWarning: `rcond` parameter will change to the default of machine precision times ``max(M, N)`` where M and N are the input matrix dimensions.\n",
      "To use the future default and silence this warning we advise to pass `rcond=None`, to keep using the old, explicitly pass `rcond=-1`.\n",
      "  res = np.linalg.lstsq(X, Y)\n"
     ]
    }
   ],
   "source": [
    "W = np.random.randn(10, 4905)\n",
    "for i in range(10):\n",
    "    res = np.linalg.lstsq(W.T, Y.T)\n",
    "    X = res[0].T\n",
    "    res = np.linalg.lstsq(X, Y)\n",
    "    W = res[0]"
   ]
  },
  {
   "cell_type": "code",
   "execution_count": 16,
   "metadata": {},
   "outputs": [
    {
     "name": "stdout",
     "output_type": "stream",
     "text": [
      "The error at k = 10 is 411.83724834685523.\n"
     ]
    }
   ],
   "source": [
    "print('The error at k = 10 is ' + str(np.linalg.norm(Y - np.dot(X, W))) + \".\")"
   ]
  },
  {
   "cell_type": "markdown",
   "metadata": {},
   "source": [
    "#### d) Plot the residual error $|| Y - XW ||$ as a function of iteration."
   ]
  },
  {
   "cell_type": "code",
   "execution_count": 17,
   "metadata": {},
   "outputs": [
    {
     "name": "stderr",
     "output_type": "stream",
     "text": [
      "/var/folders/v3/87m7w99s42n4xpqtn5t4138m0000gn/T/ipykernel_87509/4003475721.py:6: FutureWarning: `rcond` parameter will change to the default of machine precision times ``max(M, N)`` where M and N are the input matrix dimensions.\n",
      "To use the future default and silence this warning we advise to pass `rcond=None`, to keep using the old, explicitly pass `rcond=-1`.\n",
      "  res = np.linalg.lstsq(W.T, Y.T)\n",
      "/var/folders/v3/87m7w99s42n4xpqtn5t4138m0000gn/T/ipykernel_87509/4003475721.py:8: FutureWarning: `rcond` parameter will change to the default of machine precision times ``max(M, N)`` where M and N are the input matrix dimensions.\n",
      "To use the future default and silence this warning we advise to pass `rcond=None`, to keep using the old, explicitly pass `rcond=-1`.\n",
      "  res = np.linalg.lstsq(X, Y)\n"
     ]
    }
   ],
   "source": [
    "n = 10\n",
    "k = 10\n",
    "errors = np.zeros(n)\n",
    "W = np.random.randn(k, 4905)\n",
    "for i in range(n):\n",
    "    res = np.linalg.lstsq(W.T, Y.T)\n",
    "    X = res[0].T\n",
    "    res = np.linalg.lstsq(X, Y)\n",
    "    W = res[0]\n",
    "    errors[i] = np.linalg.norm(Y - np.dot(X, W))"
   ]
  },
  {
   "cell_type": "code",
   "execution_count": 18,
   "metadata": {},
   "outputs": [
    {
     "data": {
      "text/plain": [
       "[<matplotlib.lines.Line2D at 0x7fddc41ac400>]"
      ]
     },
     "execution_count": 18,
     "metadata": {},
     "output_type": "execute_result"
    },
    {
     "data": {
      "image/png": "[encoded data removed]",
      "text/plain": [
       "<Figure size 432x288 with 1 Axes>"
      ]
     },
     "metadata": {
      "needs_background": "light"
     },
     "output_type": "display_data"
    }
   ],
   "source": [
    "x = range(1, n + 1)\n",
    "y = errors\n",
    "plt.plot(x, y)"
   ]
  },
  {
   "cell_type": "markdown",
   "metadata": {},
   "source": [
    "#### e) How do the two methods compare?\n",
    "\n",
    "In particular, compare the residual error when $k=10$."
   ]
  },
  {
   "cell_type": "markdown",
   "metadata": {},
   "source": [
    "__Response:__ As the number of iterations increases, the second method's result will converge to the first method's result. This is true for any k, including k = 10."
   ]
  },
  {
   "cell_type": "markdown",
   "metadata": {},
   "source": [
    "#### f) PCA on the full dataset (approximately)\n",
    "\n",
    "Ideally, we would like to apply PCA to the full dataset, but even the small subset takes a while.\n",
    "\n",
    "In the AM method, $W$ has as many columns as $Y$, while $X$ has as many rows as $Y$. The full dataset has more rows, so we could fix the same $W$ we derived for the small dataset, and use this to find $X_\\text{full}$ for the full dataset by solving \n",
    "$$\\mbox{minimize} \\|Y_\\text{full} - X_\\text{full} W\\|_F^2 $$\n",
    "with variable $X$.\n",
    "That is, we fix $W$ and take one more step of AM (using $Y_\\text{full}$) to compute $X_{full}$. \n",
    "\n",
    "How does the new average residual error per row compare to the previous average residual error per row?"
   ]
  },
  {
   "cell_type": "code",
   "execution_count": 19,
   "metadata": {},
   "outputs": [
    {
     "name": "stderr",
     "output_type": "stream",
     "text": [
      "/var/folders/v3/87m7w99s42n4xpqtn5t4138m0000gn/T/ipykernel_87509/3632342700.py:1: FutureWarning: `rcond` parameter will change to the default of machine precision times ``max(M, N)`` where M and N are the input matrix dimensions.\n",
      "To use the future default and silence this warning we advise to pass `rcond=None`, to keep using the old, explicitly pass `rcond=-1`.\n",
      "  res = np.linalg.lstsq(W.T, Y_full.T)\n"
     ]
    }
   ],
   "source": [
    "res = np.linalg.lstsq(W.T, Y_full.T)\n",
    "X_full = res[0].T"
   ]
  },
  {
   "cell_type": "code",
   "execution_count": 20,
   "metadata": {},
   "outputs": [],
   "source": [
    "errors_old = np.zeros(1942)\n",
    "for i in range(1942):\n",
    "    errors_old[i] = np.linalg.norm(Y[i] - (np.dot(X, W)[i]))\n",
    "avg_old = np.mean(errors_old)\n",
    "errors_new = np.zeros(5828)\n",
    "for i in range(5828):\n",
    "    errors_new[i] = np.linalg.norm(Y_full[i] - (np.dot(X_full, W)[i]))\n",
    "avg_new = np.mean(errors_new)"
   ]
  },
  {
   "cell_type": "code",
   "execution_count": 21,
   "metadata": {},
   "outputs": [
    {
     "name": "stdout",
     "output_type": "stream",
     "text": [
      "The old average error per row is 6.8396335663389225.\n",
      "The new average error per row is 7.012520210910788.\n"
     ]
    }
   ],
   "source": [
    "print(\"The old average error per row is \" + str(avg_old) + '.')\n",
    "print(\"The new average error per row is \" + str(avg_new) + '.')"
   ]
  },
  {
   "cell_type": "markdown",
   "metadata": {},
   "source": [
    "__Response:__ The new average error per row is lower than the previous average error. This is because we directly adopted the old W without further optimizing it."
   ]
  },
  {
   "cell_type": "code",
   "execution_count": null,
   "metadata": {},
   "outputs": [],
   "source": []
  }
 ],
 "metadata": {
  "@webio": {
   "lastCommId": null,
   "lastKernelId": null
  },
  "kernelspec": {
   "display_name": "Python 3 (ipykernel)",
   "language": "python",
   "name": "python3"
  },
  "language_info": {
   "codemirror_mode": {
    "name": "ipython",
    "version": 3
   },
   "file_extension": ".py",
   "mimetype": "text/x-python",
   "name": "python",
   "nbconvert_exporter": "python",
   "pygments_lexer": "ipython3",
   "version": "3.8.11"
  }
 },
 "nbformat": 4,
 "nbformat_minor": 4
}

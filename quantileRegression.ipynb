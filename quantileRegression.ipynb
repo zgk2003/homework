{
 "cells": [
  {
   "cell_type": "markdown",
   "metadata": {},
   "source": [
    "### Problem 2 (Quantile Regression)"
   ]
  },
  {
   "cell_type": "code",
   "execution_count": 1,
   "metadata": {},
   "outputs": [],
   "source": [
    "import numpy as np\n",
    "import pandas as pd"
   ]
  },
  {
   "cell_type": "code",
   "execution_count": 2,
   "metadata": {},
   "outputs": [],
   "source": [
    "df = pd.read_csv(\"birthSample_1000.txt\")\n",
    "df = df.set_index(df.columns[0])"
   ]
  },
  {
   "cell_type": "code",
   "execution_count": 3,
   "metadata": {
    "scrolled": true
   },
   "outputs": [
    {
     "data": {
      "text/html": [
       "<div>\n",
       "<style scoped>\n",
       "    .dataframe tbody tr th:only-of-type {\n",
       "        vertical-align: middle;\n",
       "    }\n",
       "\n",
       "    .dataframe tbody tr th {\n",
       "        vertical-align: top;\n",
       "    }\n",
       "\n",
       "    .dataframe thead th {\n",
       "        text-align: right;\n",
       "    }\n",
       "</style>\n",
       "<table border=\"1\" class=\"dataframe\">\n",
       "  <thead>\n",
       "    <tr style=\"text-align: right;\">\n",
       "      <th></th>\n",
       "      <th>MaritalStatus</th>\n",
       "      <th>PrenatalCare</th>\n",
       "      <th>Male</th>\n",
       "      <th>Weight</th>\n",
       "    </tr>\n",
       "    <tr>\n",
       "      <th>Unnamed: 0</th>\n",
       "      <th></th>\n",
       "      <th></th>\n",
       "      <th></th>\n",
       "      <th></th>\n",
       "    </tr>\n",
       "  </thead>\n",
       "  <tbody>\n",
       "    <tr>\n",
       "      <th>3971</th>\n",
       "      <td>1</td>\n",
       "      <td>1</td>\n",
       "      <td>1</td>\n",
       "      <td>2983</td>\n",
       "    </tr>\n",
       "    <tr>\n",
       "      <th>5717</th>\n",
       "      <td>1</td>\n",
       "      <td>1</td>\n",
       "      <td>0</td>\n",
       "      <td>3471</td>\n",
       "    </tr>\n",
       "    <tr>\n",
       "      <th>1325</th>\n",
       "      <td>1</td>\n",
       "      <td>1</td>\n",
       "      <td>1</td>\n",
       "      <td>3818</td>\n",
       "    </tr>\n",
       "    <tr>\n",
       "      <th>3265</th>\n",
       "      <td>0</td>\n",
       "      <td>0</td>\n",
       "      <td>0</td>\n",
       "      <td>3204</td>\n",
       "    </tr>\n",
       "    <tr>\n",
       "      <th>8233</th>\n",
       "      <td>0</td>\n",
       "      <td>1</td>\n",
       "      <td>1</td>\n",
       "      <td>3600</td>\n",
       "    </tr>\n",
       "  </tbody>\n",
       "</table>\n",
       "</div>"
      ],
      "text/plain": [
       "            MaritalStatus  PrenatalCare  Male  Weight\n",
       "Unnamed: 0                                           \n",
       "3971                    1             1     1    2983\n",
       "5717                    1             1     0    3471\n",
       "1325                    1             1     1    3818\n",
       "3265                    0             0     0    3204\n",
       "8233                    0             1     1    3600"
      ]
     },
     "execution_count": 3,
     "metadata": {},
     "output_type": "execute_result"
    }
   ],
   "source": [
    "df.head()"
   ]
  },
  {
   "cell_type": "code",
   "execution_count": 4,
   "metadata": {},
   "outputs": [
    {
     "data": {
      "text/plain": [
       "MaritalStatus      2\n",
       "PrenatalCare       2\n",
       "Male               2\n",
       "Weight           472\n",
       "dtype: int64"
      ]
     },
     "execution_count": 4,
     "metadata": {},
     "output_type": "execute_result"
    }
   ],
   "source": [
    "df.nunique()"
   ]
  },
  {
   "cell_type": "code",
   "execution_count": 5,
   "metadata": {},
   "outputs": [],
   "source": [
    "n = len(df)"
   ]
  },
  {
   "cell_type": "code",
   "execution_count": 6,
   "metadata": {},
   "outputs": [],
   "source": [
    "y = np.asarray(df['Weight'])\n",
    "X = np.asarray(df[['MaritalStatus','Male','PrenatalCare']])"
   ]
  },
  {
   "cell_type": "code",
   "execution_count": 7,
   "metadata": {},
   "outputs": [],
   "source": [
    "ys = y - np.mean(y)\n",
    "ys = ys / np.std(y)\n",
    "\n",
    "Xs = X - X.mean(axis=0)\n",
    "Xs = Xs * np.std(Xs, axis=0)**-1"
   ]
  },
  {
   "cell_type": "markdown",
   "metadata": {},
   "source": [
    "Use this helper function to print out the coefficents of the intercept and weight vector."
   ]
  },
  {
   "cell_type": "code",
   "execution_count": 8,
   "metadata": {},
   "outputs": [],
   "source": [
    "def print_coefs(results):\n",
    "    print('Intercept coefficient:\\t', results.intercept_)\n",
    "    for i in range(len(df.columns[:-1])):\n",
    "        print('Coefficient of', df.columns[i], ':\\t', results.coef_[i])"
   ]
  },
  {
   "cell_type": "markdown",
   "metadata": {},
   "source": [
    "### a) Fit a least squares regression \n",
    "Use least squares to predict birth weight using baby's gender, mother’s marital status, and prenatal care in the first trimester as features. (Include an offset.) Interpret the coefficients that you find. What do they mean about the relationship between each variable and birth weight?"
   ]
  },
  {
   "cell_type": "code",
   "execution_count": 9,
   "metadata": {},
   "outputs": [],
   "source": [
    "from sklearn.linear_model import LinearRegression"
   ]
  },
  {
   "cell_type": "code",
   "execution_count": 10,
   "metadata": {},
   "outputs": [],
   "source": [
    "reg = LinearRegression().fit(Xs, ys)"
   ]
  },
  {
   "cell_type": "code",
   "execution_count": 11,
   "metadata": {},
   "outputs": [
    {
     "name": "stdout",
     "output_type": "stream",
     "text": [
      "Intercept coefficient:\t -2.605111389991491e-16\n",
      "Coefficient of MaritalStatus :\t 0.1239460327812537\n",
      "Coefficient of PrenatalCare :\t 0.07146270484693734\n",
      "Coefficient of Male :\t 0.07672786297953829\n"
     ]
    }
   ],
   "source": [
    "print_coefs(reg)"
   ]
  },
  {
   "cell_type": "markdown",
   "metadata": {},
   "source": [
    "__Response__: All the coefficient are positive, meaning that there is a positive correlation between weight and each of the variables. The more positive the coefficient is, the stronger the positive correlation is. Thus, the coefficients tell me that a baby with MaritalStatus = 1 is likely to have a higher weight than a baby with MaritalStatus = 0. A baby with PrenatalCare = 1 is likely to have a higher weight than a baby with Prenatal = 0. A baby with Male = 1 is likely to have a higher weight than a baby with Male = 0. The correlation is stronger with MaritalStatus, less strong with Male, and least strong with Prenatal. The intercept coefficient is the value of the predicted scaled weigtht when all features are zero after scaling."
   ]
  },
  {
   "cell_type": "markdown",
   "metadata": {},
   "source": [
    "### b) Fit a quantile regression on the data with $q=0.05$ and $q=0.95$. What do these models predict, and how does it diﬀer from the prediction of the least squares regression? Compare these coeﬃcients to those you found in part a).\n",
    "\n",
    "For this problem, use sklearn.linear_model.QuantileRegressor with a regularization coefficient of 0. \n"
   ]
  },
  {
   "cell_type": "code",
   "execution_count": 12,
   "metadata": {
    "scrolled": true
   },
   "outputs": [],
   "source": [
    "from sklearn.linear_model import QuantileRegressor"
   ]
  },
  {
   "cell_type": "code",
   "execution_count": 13,
   "metadata": {},
   "outputs": [],
   "source": [
    "qreg1 = QuantileRegressor(quantile = 0.05, alpha = 0).fit(Xs, ys)"
   ]
  },
  {
   "cell_type": "code",
   "execution_count": 14,
   "metadata": {},
   "outputs": [
    {
     "name": "stdout",
     "output_type": "stream",
     "text": [
      "Intercept coefficient:\t -1.507000266492195\n",
      "Coefficient of MaritalStatus :\t 0.3857792813135028\n",
      "Coefficient of PrenatalCare :\t -0.006613470831668078\n",
      "Coefficient of Male :\t 0.1298019185059316\n"
     ]
    }
   ],
   "source": [
    "print_coefs(qreg1)"
   ]
  },
  {
   "cell_type": "code",
   "execution_count": 15,
   "metadata": {},
   "outputs": [],
   "source": [
    "qreg2 = QuantileRegressor(quantile = 0.95, alpha = 0).fit(Xs, ys)"
   ]
  },
  {
   "cell_type": "code",
   "execution_count": 16,
   "metadata": {},
   "outputs": [
    {
     "name": "stdout",
     "output_type": "stream",
     "text": [
      "Intercept coefficient:\t 1.4499106153280765\n",
      "Coefficient of MaritalStatus :\t 0.051645271937252435\n",
      "Coefficient of PrenatalCare :\t 0.16755808876187328\n",
      "Coefficient of Male :\t 0.11072162200713098\n"
     ]
    }
   ],
   "source": [
    "print_coefs(qreg2)"
   ]
  },
  {
   "cell_type": "markdown",
   "metadata": {},
   "source": [
    "__Response__:"
   ]
  },
  {
   "cell_type": "markdown",
   "metadata": {},
   "source": [
    "### c) Fit quantile regressions for $q=0.05, 0.10, \\cdots, 0.95$.\n",
    "This step may take a while."
   ]
  },
  {
   "cell_type": "code",
   "execution_count": 17,
   "metadata": {},
   "outputs": [],
   "source": [
    "qs = np.arange(0.05, 0.96, 0.05)\n",
    "coefs = np.zeros((19, 4))\n",
    "for i in range(len(qs)):\n",
    "    qreg = QuantileRegressor(quantile = qs[i], alpha = 0).fit(Xs, ys)\n",
    "    for j in range(4):\n",
    "        if j == 0:\n",
    "            coefs[i, j] = qreg.intercept_\n",
    "        else:\n",
    "            coefs[i, j] = qreg.coef_[j-1]"
   ]
  },
  {
   "cell_type": "code",
   "execution_count": 18,
   "metadata": {},
   "outputs": [
    {
     "data": {
      "text/plain": [
       "array([0.05, 0.1 , 0.15, 0.2 , 0.25, 0.3 , 0.35, 0.4 , 0.45, 0.5 , 0.55,\n",
       "       0.6 , 0.65, 0.7 , 0.75, 0.8 , 0.85, 0.9 , 0.95])"
      ]
     },
     "execution_count": 18,
     "metadata": {},
     "output_type": "execute_result"
    }
   ],
   "source": [
    "qs"
   ]
  },
  {
   "cell_type": "code",
   "execution_count": 19,
   "metadata": {},
   "outputs": [
    {
     "data": {
      "text/plain": [
       "array([-0.81891713,  0.09736404,  0.02591104,  0.0590472 ])"
      ]
     },
     "execution_count": 19,
     "metadata": {},
     "output_type": "execute_result"
    }
   ],
   "source": [
    "coefs[2]"
   ]
  },
  {
   "cell_type": "markdown",
   "metadata": {},
   "source": [
    "### d) Create an intercept plot that plots quantiles against the intercept coefficient from that quantile regression. Create coefficient plots for MaritalStatus, Male, and PrenatalCare coefficients.\n"
   ]
  },
  {
   "cell_type": "code",
   "execution_count": 20,
   "metadata": {},
   "outputs": [],
   "source": [
    "import matplotlib.pyplot as plt"
   ]
  },
  {
   "cell_type": "code",
   "execution_count": 21,
   "metadata": {},
   "outputs": [
    {
     "data": {
      "text/plain": [
       "Text(0, 0.5, 'Intercept')"
      ]
     },
     "execution_count": 21,
     "metadata": {},
     "output_type": "execute_result"
    },
    {
     "data": {
      "image/png": "[encoded data removed]",
      "text/plain": [
       "<Figure size 432x288 with 1 Axes>"
      ]
     },
     "metadata": {
      "needs_background": "light"
     },
     "output_type": "display_data"
    }
   ],
   "source": [
    "plt.plot(qs, coefs[:,0], 'r')\n",
    "plt.xlabel('Quantile')\n",
    "plt.ylabel('Intercept')"
   ]
  },
  {
   "cell_type": "code",
   "execution_count": 22,
   "metadata": {},
   "outputs": [
    {
     "data": {
      "text/plain": [
       "Text(0, 0.5, 'Coef for MaritalStatus')"
      ]
     },
     "execution_count": 22,
     "metadata": {},
     "output_type": "execute_result"
    },
    {
     "data": {
      "image/png": "[encoded data removed]",
      "text/plain": [
       "<Figure size 432x288 with 1 Axes>"
      ]
     },
     "metadata": {
      "needs_background": "light"
     },
     "output_type": "display_data"
    }
   ],
   "source": [
    "plt.plot(qs, coefs[:,1], 'r')\n",
    "plt.xlabel('Quantile')\n",
    "plt.ylabel('Coef for MaritalStatus')"
   ]
  },
  {
   "cell_type": "code",
   "execution_count": 23,
   "metadata": {},
   "outputs": [
    {
     "data": {
      "text/plain": [
       "Text(0, 0.5, 'Coef for PrenatalCare')"
      ]
     },
     "execution_count": 23,
     "metadata": {},
     "output_type": "execute_result"
    },
    {
     "data": {
      "image/png": "[encoded data removed]",
      "text/plain": [
       "<Figure size 432x288 with 1 Axes>"
      ]
     },
     "metadata": {
      "needs_background": "light"
     },
     "output_type": "display_data"
    }
   ],
   "source": [
    "plt.plot(qs, coefs[:,2], 'r')\n",
    "plt.xlabel('Quantile')\n",
    "plt.ylabel('Coef for PrenatalCare')"
   ]
  },
  {
   "cell_type": "code",
   "execution_count": 24,
   "metadata": {},
   "outputs": [
    {
     "data": {
      "text/plain": [
       "Text(0, 0.5, 'Coef for Male')"
      ]
     },
     "execution_count": 24,
     "metadata": {},
     "output_type": "execute_result"
    },
    {
     "data": {
      "image/png": "[encoded data removed]",
      "text/plain": [
       "<Figure size 432x288 with 1 Axes>"
      ]
     },
     "metadata": {
      "needs_background": "light"
     },
     "output_type": "display_data"
    }
   ],
   "source": [
    "plt.plot(qs, coefs[:,3], 'r')\n",
    "plt.xlabel('Quantile')\n",
    "plt.ylabel('Coef for Male')"
   ]
  },
  {
   "cell_type": "markdown",
   "metadata": {},
   "source": [
    "__Response__: "
   ]
  },
  {
   "cell_type": "markdown",
   "metadata": {},
   "source": [
    "### e) How should you interpret the intercepts of the quantile regressions?"
   ]
  },
  {
   "cell_type": "markdown",
   "metadata": {},
   "source": [
    "__Response__: The intercepts of the quantile regression constantly increases as the quantile parameter increases. This is because as the quantile parameter increases, we care more about examples on which our model's prediction is lower than the actual weight. Thus our predictions tend to be higher for regressors with a higher quantile parameter, thus having a larger intercept."
   ]
  },
  {
   "cell_type": "markdown",
   "metadata": {},
   "source": [
    "### f) What does the coefficient plot tell you about the effect of prenatal care for infants with low birth weight compared to those with average birth weights?"
   ]
  },
  {
   "cell_type": "markdown",
   "metadata": {},
   "source": [
    "__Response__: the effect of prenatal care for infants with low birth weight is smaller compared to those with average birth weights."
   ]
  },
  {
   "cell_type": "code",
   "execution_count": null,
   "metadata": {},
   "outputs": [],
   "source": []
  }
 ],
 "metadata": {
  "kernelspec": {
   "display_name": "Python 3 (ipykernel)",
   "language": "python",
   "name": "python3"
  },
  "language_info": {
   "codemirror_mode": {
    "name": "ipython",
    "version": 3
   },
   "file_extension": ".py",
   "mimetype": "text/x-python",
   "name": "python",
   "nbconvert_exporter": "python",
   "pygments_lexer": "ipython3",
   "version": "3.8.11"
  }
 },
 "nbformat": 4,
 "nbformat_minor": 2
}
